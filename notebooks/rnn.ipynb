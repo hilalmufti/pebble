{
 "cells": [
  {
   "cell_type": "code",
   "execution_count": 3,
   "metadata": {},
   "outputs": [
    {
     "name": "stdout",
     "output_type": "stream",
     "text": [
      "Intel MKL WARNING: Support of Intel(R) Streaming SIMD Extensions 4.2 (Intel(R) SSE4.2) enabled only processors has been deprecated. Intel oneAPI Math Kernel Library 2025.0 will require Intel(R) Advanced Vector Extensions (Intel(R) AVX) instructions.\n",
      "Intel MKL WARNING: Support of Intel(R) Streaming SIMD Extensions 4.2 (Intel(R) SSE4.2) enabled only processors has been deprecated. Intel oneAPI Math Kernel Library 2025.0 will require Intel(R) Advanced Vector Extensions (Intel(R) AVX) instructions.\n"
     ]
    }
   ],
   "source": [
    "import equinox as eqx\n",
    "import jax"
   ]
  },
  {
   "cell_type": "code",
   "execution_count": 8,
   "metadata": {},
   "outputs": [
    {
     "name": "stdout",
     "output_type": "stream",
     "text": [
      "<class 'jaxlib.xla_extension.PjitFunction'>\n"
     ]
    }
   ],
   "source": [
    "print(type(jax.nn.sigmoid))"
   ]
  },
  {
   "cell_type": "code",
   "execution_count": 9,
   "metadata": {},
   "outputs": [],
   "source": [
    "class RNN(eqx.Module): \n",
    "    input_dim: int\n",
    "    hidden_dim: int\n",
    "    output_dim: int\n",
    "    Wh: eqx.nn.Linear\n",
    "    Wx: eqx.nn.Linear\n",
    "    Wy: eqx.nn.Linear\n",
    "    act: callable\n",
    "\n",
    "    \n",
    "    def __init__(self, input_dim=2, hidden_dim=2, output_dim=1):\n",
    "        self.hidden_dim = hidden_dim\n",
    "        self.Wh = eqx.nn.Linear(hidden_dim, hidden_dim)\n",
    "        self.Wx = eqx.nn.Linear(input_dim, hidden_dim)\n",
    "        self.Wy = eqx.nn.Linear(hidden_dim, output_dim)\n",
    "        self.act = jax.nn.sigmoid\n",
    "\n",
    "    def __call__(self, x): \n",
    "        batch_size = x.size(0)\n",
    "        seq_length = x.size(1)\n",
    "\n",
    "        hidden = torch.nn.Parameter(torch.zeros(batch_size, self.hidden_dim))\n",
    "        outs = []\n",
    "\n",
    "        for i in range(seq_length):\n",
    "            hidden = self.act(self.Wh(hidden) + self.Wx(x[:,i,:]))\n",
    "            out = self.Wy(hidden)\n",
    "            outs.append(out)\n",
    "        \n",
    "        # output shape = (batch_size, sequence length, output dimension)\n",
    "        return torch.stack(outs).permute(1,0,2)\n"
   ]
  }
 ],
 "metadata": {
  "kernelspec": {
   "display_name": "pebble",
   "language": "python",
   "name": "python3"
  },
  "language_info": {
   "codemirror_mode": {
    "name": "ipython",
    "version": 3
   },
   "file_extension": ".py",
   "mimetype": "text/x-python",
   "name": "python",
   "nbconvert_exporter": "python",
   "pygments_lexer": "ipython3",
   "version": "3.11.9"
  }
 },
 "nbformat": 4,
 "nbformat_minor": 2
}
