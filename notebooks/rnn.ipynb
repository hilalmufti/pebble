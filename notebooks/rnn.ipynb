{
 "cells": [
  {
   "cell_type": "code",
   "execution_count": 2,
   "metadata": {},
   "outputs": [
    {
     "name": "stdout",
     "output_type": "stream",
     "text": [
      "Intel MKL WARNING: Support of Intel(R) Streaming SIMD Extensions 4.2 (Intel(R) SSE4.2) enabled only processors has been deprecated. Intel oneAPI Math Kernel Library 2025.0 will require Intel(R) Advanced Vector Extensions (Intel(R) AVX) instructions.\n",
      "Intel MKL WARNING: Support of Intel(R) Streaming SIMD Extensions 4.2 (Intel(R) SSE4.2) enabled only processors has been deprecated. Intel oneAPI Math Kernel Library 2025.0 will require Intel(R) Advanced Vector Extensions (Intel(R) AVX) instructions.\n"
     ]
    }
   ],
   "source": [
    "import equinox as eqx\n",
    "import jax\n",
    "import jax.numpy as jnp\n",
    "from dataclasses import dataclass"
   ]
  },
  {
   "cell_type": "code",
   "execution_count": 3,
   "metadata": {},
   "outputs": [],
   "source": [
    "@dataclass \n",
    "class RNNConfig: \n",
    "  input_dim: int = 2\n",
    "  output_dim: int = 1\n",
    "  hidden_dim: int = 40 "
   ]
  },
  {
   "cell_type": "code",
   "execution_count": 4,
   "metadata": {},
   "outputs": [],
   "source": [
    "key = jax.random.PRNGKey(446)\n",
    "\n",
    "class RNN(eqx.Module): \n",
    "    config: RNNConfig\n",
    "    hidden_dim: int\n",
    "    Wh: eqx.nn.Linear\n",
    "    Wx: eqx.nn.Linear\n",
    "    Wy: eqx.nn.Linear\n",
    "    act: callable\n",
    "    device: str = 'cpu'\n",
    "    \n",
    "    # TODO: check bias \n",
    "    def __init__(self, config, device='cpu'):\n",
    "        self.config = config\n",
    "        self.hidden_dim = config.hidden_dim\n",
    "        self.Wh = eqx.nn.Linear(config.hidden_dim, config.hidden_dim, key=key)\n",
    "        self.Wx = eqx.nn.Linear(config.input_dim, config.hidden_dim, key=key)\n",
    "        self.Wy = eqx.nn.Linear(config.hidden_dim, config.output_dim, key=key)\n",
    "        self.act = jax.nn.sigmoid\n",
    "        self.device = device\n",
    "\n",
    "    def __call__(self, x): \n",
    "        # batch_size, seq_len, _ = x.shape\n",
    "        # batch_size, seq_len, _  = 1, x.shape\n",
    "        seq_len, _ = x.shape\n",
    "\n",
    "        # hidden = torch.nn.Parameter(torch.zeros(batch_size, self.hidden_dim))\n",
    "        # hidden = jnp.zeros((batch_size, self.hidden_dim))\n",
    "        hidden = jnp.zeros((self.hidden_dim,))\n",
    "        outs = []\n",
    "\n",
    "        for i in range(seq_len):\n",
    "            # print(self.Wh(hidden).shape)\n",
    "            # print(hidden.shape)\n",
    "            hidden = self.act(self.Wh(hidden) + self.Wx(x[i,:]))\n",
    "            out = self.Wy(hidden)\n",
    "            outs.append(out)\n",
    "        \n",
    "        # output shape = (batch_size, sequence length, output dimension)\n",
    "        # return torch.stack(outs).permute(1,0,2)\n",
    "        stacked = jnp.stack(outs, axis=1)\n",
    "        return stacked\n",
    "        # return jnp.transpose(stacked, (1,0,2))\n"
   ]
  },
  {
   "cell_type": "code",
   "execution_count": 5,
   "metadata": {},
   "outputs": [],
   "source": [
    "config = RNNConfig(input_dim=2, hidden_dim=2, output_dim=1)\n",
    "model = RNN(config)\n",
    "model = jax.vmap(model)"
   ]
  },
  {
   "cell_type": "code",
   "execution_count": 33,
   "metadata": {},
   "outputs": [
    {
     "data": {
      "text/plain": [
       "Array([[0.915715  , 0.8833758 , 0.89976275, 0.93795824, 0.884619  ,\n",
       "        1.010558  , 0.9284117 , 0.8763784 , 0.9298191 , 0.89009047]],      dtype=float32)"
      ]
     },
     "execution_count": 33,
     "metadata": {},
     "output_type": "execute_result"
    }
   ],
   "source": [
    "batch_size = 128\n",
    "seq_len = 10\n",
    "input_dim = 2\n",
    "# x = jax.random.normal(key, (batch_size, seq_len, input_dim))\n",
    "x = jax.random.normal(key, (seq_len, input_dim))\n",
    "model(x)"
   ]
  }
 ],
 "metadata": {
  "kernelspec": {
   "display_name": "pebble",
   "language": "python",
   "name": "python3"
  },
  "language_info": {
   "codemirror_mode": {
    "name": "ipython",
    "version": 3
   },
   "file_extension": ".py",
   "mimetype": "text/x-python",
   "name": "python",
   "nbconvert_exporter": "python",
   "pygments_lexer": "ipython3",
   "version": "3.11.9"
  }
 },
 "nbformat": 4,
 "nbformat_minor": 2
}
