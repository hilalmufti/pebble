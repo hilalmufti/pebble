{
 "cells": [
  {
   "cell_type": "code",
   "execution_count": 3,
   "metadata": {},
   "outputs": [],
   "source": [
    "import equinox as eqx\n",
    "import jax\n",
    "import jax.numpy as jnp\n",
    "from dataclasses import dataclass"
   ]
  },
  {
   "cell_type": "code",
   "execution_count": 4,
   "metadata": {},
   "outputs": [
    {
     "name": "stderr",
     "output_type": "stream",
     "text": [
      "Platform 'METAL' is experimental and not all JAX functionality may be correctly supported!\n"
     ]
    },
    {
     "name": "stdout",
     "output_type": "stream",
     "text": [
      "Metal device set to: Apple M3 Pro\n",
      "\n",
      "systemMemory: 18.00 GB\n",
      "maxCacheSize: 6.00 GB\n",
      "\n",
      "METAL\n"
     ]
    },
    {
     "name": "stderr",
     "output_type": "stream",
     "text": [
      "WARNING: All log messages before absl::InitializeLog() is called are written to STDERR\n",
      "W0000 00:00:1718494140.626312   28442 mps_client.cc:510] WARNING: JAX Apple GPU support is experimental and not all JAX functionality is correctly supported!\n",
      "I0000 00:00:1718494140.638435   28442 service.cc:145] XLA service 0x11b22ab20 initialized for platform METAL (this does not guarantee that XLA will be used). Devices:\n",
      "I0000 00:00:1718494140.638448   28442 service.cc:153]   StreamExecutor device (0): Metal, <undefined>\n",
      "I0000 00:00:1718494140.641471   28442 mps_client.cc:406] Using Simple allocator.\n",
      "I0000 00:00:1718494140.641486   28442 mps_client.cc:384] XLA backend will use up to 12883132416 bytes on device 0 for SimpleAllocator.\n"
     ]
    }
   ],
   "source": [
    "from jax.lib import xla_bridge\n",
    "print(xla_bridge.get_backend().platform)"
   ]
  },
  {
   "cell_type": "code",
   "execution_count": 42,
   "metadata": {},
   "outputs": [],
   "source": [
    "key = jax.random.PRNGKey(0)\n",
    "a = jax.random.normal(key=key, shape=(5, 4, 3))\n",
    "# b = jnp.zeros((3, 4, 10, 5,))\n",
    "# jnp.dot(a, b).shape"
   ]
  },
  {
   "cell_type": "code",
   "execution_count": 43,
   "metadata": {},
   "outputs": [
    {
     "data": {
      "text/plain": [
       "Array([[[-1.152883  , -1.229587  , -0.7161828 ],\n",
       "        [ 1.6050261 , -0.9966271 ,  1.0175147 ],\n",
       "        [-2.218356  , -0.3283949 , -0.4063526 ],\n",
       "        [ 0.31958023,  0.54812   , -0.982553  ]],\n",
       "\n",
       "       [[-0.5400347 , -2.8863804 ,  0.12353314],\n",
       "        [ 1.0260264 ,  1.4461187 ,  0.10816291],\n",
       "        [-0.25177038,  1.2097973 ,  1.6453063 ],\n",
       "        [ 0.04605093,  0.353377  , -1.5007296 ]],\n",
       "\n",
       "       [[ 0.36558455, -0.47383544, -0.79497063],\n",
       "        [-0.63448733, -0.65156275,  0.5933108 ],\n",
       "        [-1.5331371 , -0.9754873 , -1.9289044 ],\n",
       "        [-1.0240635 , -0.6569473 , -1.8061997 ]],\n",
       "\n",
       "       [[-0.47573346, -0.43003812,  1.630926  ],\n",
       "        [ 1.4903384 ,  0.63752794, -0.8156754 ],\n",
       "        [-1.1004527 ,  0.19227722, -1.6322023 ],\n",
       "        [ 0.9158138 ,  0.08496428,  1.0495372 ]],\n",
       "\n",
       "       [[ 1.8179129 ,  1.3885509 , -0.42771345],\n",
       "        [ 1.7168485 ,  1.6853313 ,  1.4082001 ],\n",
       "        [ 0.149996  , -0.18189907,  1.3802307 ],\n",
       "        [-0.1458    ,  0.46899822, -0.09020927]]], dtype=float32)"
      ]
     },
     "execution_count": 43,
     "metadata": {},
     "output_type": "execute_result"
    }
   ],
   "source": [
    "a"
   ]
  },
  {
   "cell_type": "code",
   "execution_count": 21,
   "metadata": {},
   "outputs": [
    {
     "name": "stdout",
     "output_type": "stream",
     "text": [
      "[METAL(id=0)]\n"
     ]
    }
   ],
   "source": [
    "if (x := jax.devices()) is not None:\n",
    "    print(x)"
   ]
  },
  {
   "cell_type": "code",
   "execution_count": 19,
   "metadata": {},
   "outputs": [
    {
     "ename": "XlaRuntimeError",
     "evalue": "UNKNOWN: <unknown>:0: error: 'func.func' op One or more function input/output data types are not supported.\n<unknown>:0: note: see current operation: \n\"func.func\"() <{arg_attrs = [{mhlo.layout_mode = \"default\"}], function_type = (tensor<i4>) -> tensor<i4>, res_attrs = [{jax.result_info = \"\", mhlo.layout_mode = \"default\"}], sym_name = \"main\", sym_visibility = \"public\"}> ({\n^bb0(%arg0: tensor<i4>):\n  \"func.return\"(%arg0) : (tensor<i4>) -> ()\n}) : () -> ()\n<unknown>:0: error: failed to legalize operation 'func.func'\n<unknown>:0: note: see current operation: \n\"func.func\"() <{arg_attrs = [{mhlo.layout_mode = \"default\"}], function_type = (tensor<i4>) -> tensor<i4>, res_attrs = [{jax.result_info = \"\", mhlo.layout_mode = \"default\"}], sym_name = \"main\", sym_visibility = \"public\"}> ({\n^bb0(%arg0: tensor<i4>):\n  \"func.return\"(%arg0) : (tensor<i4>) -> ()\n}) : () -> ()\n",
     "output_type": "error",
     "traceback": [
      "\u001b[0;31m---------------------------------------------------------------------------\u001b[0m",
      "\u001b[0;31mXlaRuntimeError\u001b[0m                           Traceback (most recent call last)",
      "Cell \u001b[0;32mIn[19], line 1\u001b[0m\n\u001b[0;32m----> 1\u001b[0m a \u001b[38;5;241m=\u001b[39m \u001b[43mjnp\u001b[49m\u001b[38;5;241;43m.\u001b[39;49m\u001b[43mzeros\u001b[49m\u001b[43m(\u001b[49m\u001b[43m(\u001b[49m\u001b[38;5;241;43m100\u001b[39;49m\u001b[43m,\u001b[49m\u001b[43m \u001b[49m\u001b[38;5;241;43m100\u001b[39;49m\u001b[43m)\u001b[49m\u001b[43m,\u001b[49m\u001b[43m \u001b[49m\u001b[43mdtype\u001b[49m\u001b[38;5;241;43m=\u001b[39;49m\u001b[43mjnp\u001b[49m\u001b[38;5;241;43m.\u001b[39;49m\u001b[43mint4\u001b[49m\u001b[43m)\u001b[49m\n",
      "File \u001b[0;32m~/opt/anaconda3/envs/pebble/lib/python3.10/site-packages/jax/_src/numpy/lax_numpy.py:2341\u001b[0m, in \u001b[0;36mzeros\u001b[0;34m(shape, dtype, device)\u001b[0m\n\u001b[1;32m   2339\u001b[0m dtypes\u001b[38;5;241m.\u001b[39mcheck_user_dtype_supported(dtype, \u001b[38;5;124m\"\u001b[39m\u001b[38;5;124mzeros\u001b[39m\u001b[38;5;124m\"\u001b[39m)\n\u001b[1;32m   2340\u001b[0m shape \u001b[38;5;241m=\u001b[39m canonicalize_shape(shape)\n\u001b[0;32m-> 2341\u001b[0m \u001b[38;5;28;01mreturn\u001b[39;00m \u001b[43mlax\u001b[49m\u001b[38;5;241;43m.\u001b[39;49m\u001b[43mfull\u001b[49m\u001b[43m(\u001b[49m\u001b[43mshape\u001b[49m\u001b[43m,\u001b[49m\u001b[43m \u001b[49m\u001b[38;5;241;43m0\u001b[39;49m\u001b[43m,\u001b[49m\u001b[43m \u001b[49m\u001b[43m_jnp_dtype\u001b[49m\u001b[43m(\u001b[49m\u001b[43mdtype\u001b[49m\u001b[43m)\u001b[49m\u001b[43m,\u001b[49m\u001b[43m \u001b[49m\u001b[43msharding\u001b[49m\u001b[38;5;241;43m=\u001b[39;49m\u001b[43m_normalize_to_sharding\u001b[49m\u001b[43m(\u001b[49m\u001b[43mdevice\u001b[49m\u001b[43m)\u001b[49m\u001b[43m)\u001b[49m\n",
      "File \u001b[0;32m~/opt/anaconda3/envs/pebble/lib/python3.10/site-packages/jax/_src/lax/lax.py:1246\u001b[0m, in \u001b[0;36mfull\u001b[0;34m(shape, fill_value, dtype, sharding)\u001b[0m\n\u001b[1;32m   1244\u001b[0m weak_type \u001b[38;5;241m=\u001b[39m dtype \u001b[38;5;129;01mis\u001b[39;00m \u001b[38;5;28;01mNone\u001b[39;00m \u001b[38;5;129;01mand\u001b[39;00m dtypes\u001b[38;5;241m.\u001b[39mis_weakly_typed(fill_value)\n\u001b[1;32m   1245\u001b[0m dtype \u001b[38;5;241m=\u001b[39m dtypes\u001b[38;5;241m.\u001b[39mcanonicalize_dtype(dtype \u001b[38;5;129;01mor\u001b[39;00m _dtype(fill_value))\n\u001b[0;32m-> 1246\u001b[0m fill_value \u001b[38;5;241m=\u001b[39m \u001b[43m_convert_element_type\u001b[49m\u001b[43m(\u001b[49m\u001b[43mfill_value\u001b[49m\u001b[43m,\u001b[49m\u001b[43m \u001b[49m\u001b[43mdtype\u001b[49m\u001b[43m,\u001b[49m\u001b[43m \u001b[49m\u001b[43mweak_type\u001b[49m\u001b[43m)\u001b[49m\n\u001b[1;32m   1247\u001b[0m \u001b[38;5;66;03m# In tracing mode we can't set sharing explictly and PmapShardng is not\u001b[39;00m\n\u001b[1;32m   1248\u001b[0m \u001b[38;5;66;03m# supported.\u001b[39;00m\n\u001b[1;32m   1249\u001b[0m \u001b[38;5;66;03m# NB: Consider using with_sharding_constraint in jitted computation\u001b[39;00m\n\u001b[1;32m   1250\u001b[0m \u001b[38;5;66;03m# if needed?\u001b[39;00m\n\u001b[1;32m   1251\u001b[0m \u001b[38;5;28;01mif\u001b[39;00m (sharding \u001b[38;5;129;01mis\u001b[39;00m \u001b[38;5;129;01mnot\u001b[39;00m \u001b[38;5;28;01mNone\u001b[39;00m \u001b[38;5;129;01mand\u001b[39;00m \u001b[38;5;129;01mnot\u001b[39;00m \u001b[38;5;28misinstance\u001b[39m(sharding, PmapSharding) \u001b[38;5;129;01mand\u001b[39;00m\n\u001b[1;32m   1252\u001b[0m     \u001b[38;5;28misinstance\u001b[39m(fill_value, array\u001b[38;5;241m.\u001b[39mArrayImpl)):\n",
      "File \u001b[0;32m~/opt/anaconda3/envs/pebble/lib/python3.10/site-packages/jax/_src/lax/lax.py:558\u001b[0m, in \u001b[0;36m_convert_element_type\u001b[0;34m(operand, new_dtype, weak_type)\u001b[0m\n\u001b[1;32m    556\u001b[0m   \u001b[38;5;28;01mreturn\u001b[39;00m type_cast(Array, operand)\n\u001b[1;32m    557\u001b[0m \u001b[38;5;28;01melse\u001b[39;00m:\n\u001b[0;32m--> 558\u001b[0m   \u001b[38;5;28;01mreturn\u001b[39;00m \u001b[43mconvert_element_type_p\u001b[49m\u001b[38;5;241;43m.\u001b[39;49m\u001b[43mbind\u001b[49m\u001b[43m(\u001b[49m\u001b[43moperand\u001b[49m\u001b[43m,\u001b[49m\u001b[43m \u001b[49m\u001b[43mnew_dtype\u001b[49m\u001b[38;5;241;43m=\u001b[39;49m\u001b[43mnew_dtype\u001b[49m\u001b[43m,\u001b[49m\n\u001b[1;32m    559\u001b[0m \u001b[43m                                     \u001b[49m\u001b[43mweak_type\u001b[49m\u001b[38;5;241;43m=\u001b[39;49m\u001b[38;5;28;43mbool\u001b[39;49m\u001b[43m(\u001b[49m\u001b[43mweak_type\u001b[49m\u001b[43m)\u001b[49m\u001b[43m)\u001b[49m\n",
      "File \u001b[0;32m~/opt/anaconda3/envs/pebble/lib/python3.10/site-packages/jax/_src/core.py:422\u001b[0m, in \u001b[0;36mPrimitive.bind\u001b[0;34m(self, *args, **params)\u001b[0m\n\u001b[1;32m    419\u001b[0m \u001b[38;5;28;01mdef\u001b[39;00m \u001b[38;5;21mbind\u001b[39m(\u001b[38;5;28mself\u001b[39m, \u001b[38;5;241m*\u001b[39margs, \u001b[38;5;241m*\u001b[39m\u001b[38;5;241m*\u001b[39mparams):\n\u001b[1;32m    420\u001b[0m   \u001b[38;5;28;01massert\u001b[39;00m (\u001b[38;5;129;01mnot\u001b[39;00m config\u001b[38;5;241m.\u001b[39menable_checks\u001b[38;5;241m.\u001b[39mvalue \u001b[38;5;129;01mor\u001b[39;00m\n\u001b[1;32m    421\u001b[0m           \u001b[38;5;28mall\u001b[39m(\u001b[38;5;28misinstance\u001b[39m(arg, Tracer) \u001b[38;5;129;01mor\u001b[39;00m valid_jaxtype(arg) \u001b[38;5;28;01mfor\u001b[39;00m arg \u001b[38;5;129;01min\u001b[39;00m args)), args\n\u001b[0;32m--> 422\u001b[0m   \u001b[38;5;28;01mreturn\u001b[39;00m \u001b[38;5;28;43mself\u001b[39;49m\u001b[38;5;241;43m.\u001b[39;49m\u001b[43mbind_with_trace\u001b[49m\u001b[43m(\u001b[49m\u001b[43mfind_top_trace\u001b[49m\u001b[43m(\u001b[49m\u001b[43margs\u001b[49m\u001b[43m)\u001b[49m\u001b[43m,\u001b[49m\u001b[43m \u001b[49m\u001b[43margs\u001b[49m\u001b[43m,\u001b[49m\u001b[43m \u001b[49m\u001b[43mparams\u001b[49m\u001b[43m)\u001b[49m\n",
      "File \u001b[0;32m~/opt/anaconda3/envs/pebble/lib/python3.10/site-packages/jax/_src/core.py:425\u001b[0m, in \u001b[0;36mPrimitive.bind_with_trace\u001b[0;34m(self, trace, args, params)\u001b[0m\n\u001b[1;32m    424\u001b[0m \u001b[38;5;28;01mdef\u001b[39;00m \u001b[38;5;21mbind_with_trace\u001b[39m(\u001b[38;5;28mself\u001b[39m, trace, args, params):\n\u001b[0;32m--> 425\u001b[0m   out \u001b[38;5;241m=\u001b[39m \u001b[43mtrace\u001b[49m\u001b[38;5;241;43m.\u001b[39;49m\u001b[43mprocess_primitive\u001b[49m\u001b[43m(\u001b[49m\u001b[38;5;28;43mself\u001b[39;49m\u001b[43m,\u001b[49m\u001b[43m \u001b[49m\u001b[38;5;28;43mmap\u001b[39;49m\u001b[43m(\u001b[49m\u001b[43mtrace\u001b[49m\u001b[38;5;241;43m.\u001b[39;49m\u001b[43mfull_raise\u001b[49m\u001b[43m,\u001b[49m\u001b[43m \u001b[49m\u001b[43margs\u001b[49m\u001b[43m)\u001b[49m\u001b[43m,\u001b[49m\u001b[43m \u001b[49m\u001b[43mparams\u001b[49m\u001b[43m)\u001b[49m\n\u001b[1;32m    426\u001b[0m   \u001b[38;5;28;01mreturn\u001b[39;00m \u001b[38;5;28mmap\u001b[39m(full_lower, out) \u001b[38;5;28;01mif\u001b[39;00m \u001b[38;5;28mself\u001b[39m\u001b[38;5;241m.\u001b[39mmultiple_results \u001b[38;5;28;01melse\u001b[39;00m full_lower(out)\n",
      "File \u001b[0;32m~/opt/anaconda3/envs/pebble/lib/python3.10/site-packages/jax/_src/core.py:913\u001b[0m, in \u001b[0;36mEvalTrace.process_primitive\u001b[0;34m(self, primitive, tracers, params)\u001b[0m\n\u001b[1;32m    912\u001b[0m \u001b[38;5;28;01mdef\u001b[39;00m \u001b[38;5;21mprocess_primitive\u001b[39m(\u001b[38;5;28mself\u001b[39m, primitive, tracers, params):\n\u001b[0;32m--> 913\u001b[0m   \u001b[38;5;28;01mreturn\u001b[39;00m \u001b[43mprimitive\u001b[49m\u001b[38;5;241;43m.\u001b[39;49m\u001b[43mimpl\u001b[49m\u001b[43m(\u001b[49m\u001b[38;5;241;43m*\u001b[39;49m\u001b[43mtracers\u001b[49m\u001b[43m,\u001b[49m\u001b[43m \u001b[49m\u001b[38;5;241;43m*\u001b[39;49m\u001b[38;5;241;43m*\u001b[39;49m\u001b[43mparams\u001b[49m\u001b[43m)\u001b[49m\n",
      "File \u001b[0;32m~/opt/anaconda3/envs/pebble/lib/python3.10/site-packages/jax/_src/dispatch.py:87\u001b[0m, in \u001b[0;36mapply_primitive\u001b[0;34m(prim, *args, **params)\u001b[0m\n\u001b[1;32m     85\u001b[0m prev \u001b[38;5;241m=\u001b[39m lib\u001b[38;5;241m.\u001b[39mjax_jit\u001b[38;5;241m.\u001b[39mswap_thread_local_state_disable_jit(\u001b[38;5;28;01mFalse\u001b[39;00m)\n\u001b[1;32m     86\u001b[0m \u001b[38;5;28;01mtry\u001b[39;00m:\n\u001b[0;32m---> 87\u001b[0m   outs \u001b[38;5;241m=\u001b[39m \u001b[43mfun\u001b[49m\u001b[43m(\u001b[49m\u001b[38;5;241;43m*\u001b[39;49m\u001b[43margs\u001b[49m\u001b[43m)\u001b[49m\n\u001b[1;32m     88\u001b[0m \u001b[38;5;28;01mfinally\u001b[39;00m:\n\u001b[1;32m     89\u001b[0m   lib\u001b[38;5;241m.\u001b[39mjax_jit\u001b[38;5;241m.\u001b[39mswap_thread_local_state_disable_jit(prev)\n",
      "    \u001b[0;31m[... skipping hidden 14 frame]\u001b[0m\n",
      "File \u001b[0;32m~/opt/anaconda3/envs/pebble/lib/python3.10/site-packages/jax/_src/compiler.py:238\u001b[0m, in \u001b[0;36mbackend_compile\u001b[0;34m(backend, module, options, host_callbacks)\u001b[0m\n\u001b[1;32m    233\u001b[0m   \u001b[38;5;28;01mreturn\u001b[39;00m backend\u001b[38;5;241m.\u001b[39mcompile(built_c, compile_options\u001b[38;5;241m=\u001b[39moptions,\n\u001b[1;32m    234\u001b[0m                          host_callbacks\u001b[38;5;241m=\u001b[39mhost_callbacks)\n\u001b[1;32m    235\u001b[0m \u001b[38;5;66;03m# Some backends don't have `host_callbacks` option yet\u001b[39;00m\n\u001b[1;32m    236\u001b[0m \u001b[38;5;66;03m# TODO(sharadmv): remove this fallback when all backends allow `compile`\u001b[39;00m\n\u001b[1;32m    237\u001b[0m \u001b[38;5;66;03m# to take in `host_callbacks`\u001b[39;00m\n\u001b[0;32m--> 238\u001b[0m \u001b[38;5;28;01mreturn\u001b[39;00m \u001b[43mbackend\u001b[49m\u001b[38;5;241;43m.\u001b[39;49m\u001b[43mcompile\u001b[49m\u001b[43m(\u001b[49m\u001b[43mbuilt_c\u001b[49m\u001b[43m,\u001b[49m\u001b[43m \u001b[49m\u001b[43mcompile_options\u001b[49m\u001b[38;5;241;43m=\u001b[39;49m\u001b[43moptions\u001b[49m\u001b[43m)\u001b[49m\n",
      "\u001b[0;31mXlaRuntimeError\u001b[0m: UNKNOWN: <unknown>:0: error: 'func.func' op One or more function input/output data types are not supported.\n<unknown>:0: note: see current operation: \n\"func.func\"() <{arg_attrs = [{mhlo.layout_mode = \"default\"}], function_type = (tensor<i4>) -> tensor<i4>, res_attrs = [{jax.result_info = \"\", mhlo.layout_mode = \"default\"}], sym_name = \"main\", sym_visibility = \"public\"}> ({\n^bb0(%arg0: tensor<i4>):\n  \"func.return\"(%arg0) : (tensor<i4>) -> ()\n}) : () -> ()\n<unknown>:0: error: failed to legalize operation 'func.func'\n<unknown>:0: note: see current operation: \n\"func.func\"() <{arg_attrs = [{mhlo.layout_mode = \"default\"}], function_type = (tensor<i4>) -> tensor<i4>, res_attrs = [{jax.result_info = \"\", mhlo.layout_mode = \"default\"}], sym_name = \"main\", sym_visibility = \"public\"}> ({\n^bb0(%arg0: tensor<i4>):\n  \"func.return\"(%arg0) : (tensor<i4>) -> ()\n}) : () -> ()\n"
     ]
    }
   ],
   "source": [
    "a = jnp.zeros((100, 100), dtype=jnp.int4)"
   ]
  },
  {
   "cell_type": "code",
   "execution_count": 3,
   "metadata": {},
   "outputs": [],
   "source": [
    "@dataclass \n",
    "class RNNConfig: \n",
    "  input_dim: int = 2\n",
    "  output_dim: int = 1\n",
    "  hidden_dim: int = 40 "
   ]
  },
  {
   "cell_type": "code",
   "execution_count": 4,
   "metadata": {},
   "outputs": [],
   "source": [
    "key = jax.random.PRNGKey(446)\n",
    "\n",
    "class RNN(eqx.Module):\n",
    "    config: RNNConfig\n",
    "    hidden_dim: int\n",
    "    Wh: eqx.nn.Linear\n",
    "    Wx: eqx.nn.Linear\n",
    "    Wy: eqx.nn.Linear\n",
    "    act: callable\n",
    "    device: str = 'cpu'\n",
    "    \n",
    "    # TODO: check bias \n",
    "    def __init__(self, config, device='cpu'):\n",
    "        self.config = config\n",
    "        self.hidden_dim = config.hidden_dim\n",
    "        self.Wh = eqx.nn.Linear(config.hidden_dim, config.hidden_dim, key=key)\n",
    "        self.Wx = eqx.nn.Linear(config.input_dim, config.hidden_dim, key=key)\n",
    "        self.Wy = eqx.nn.Linear(config.hidden_dim, config.output_dim, key=key)\n",
    "        self.act = jax.nn.sigmoid\n",
    "        self.device = device\n",
    "\n",
    "    def __call__(self, x): \n",
    "        # batch_size, seq_len, _ = x.shape\n",
    "        # batch_size, seq_len, _  = 1, x.shape\n",
    "        seq_len, _ = x.shape\n",
    "\n",
    "        # hidden = torch.nn.Parameter(torch.zeros(batch_size, self.hidden_dim))\n",
    "        # hidden = jnp.zeros((batch_size, self.hidden_dim))\n",
    "        hidden = jnp.zeros((self.hidden_dim,))\n",
    "        outs = []\n",
    "\n",
    "        for i in range(seq_len):\n",
    "            # print(self.Wh(hidden).shape)\n",
    "            # print(hidden.shape)\n",
    "            hidden = self.act(self.Wh(hidden) + self.Wx(x[i,:]))\n",
    "            out = self.Wy(hidden)\n",
    "            outs.append(out)\n",
    "        \n",
    "        # output shape = (batch_size, sequence length, output dimension)\n",
    "        # return torch.stack(outs).permute(1,0,2)\n",
    "        stacked = jnp.stack(outs, axis=1)\n",
    "        return stacked\n",
    "        # return jnp.transpose(stacked, (1,0,2))\n"
   ]
  },
  {
   "cell_type": "code",
   "execution_count": 5,
   "metadata": {},
   "outputs": [],
   "source": [
    "config = RNNConfig(input_dim=2, hidden_dim=2, output_dim=1)\n",
    "model = RNN(config)\n",
    "model = jax.vmap(model)"
   ]
  },
  {
   "cell_type": "code",
   "execution_count": 8,
   "metadata": {},
   "outputs": [
    {
     "ename": "ValueError",
     "evalue": "not enough values to unpack (expected 2, got 1)",
     "output_type": "error",
     "traceback": [
      "\u001b[0;31m---------------------------------------------------------------------------\u001b[0m",
      "\u001b[0;31mValueError\u001b[0m                                Traceback (most recent call last)",
      "Cell \u001b[0;32mIn[8], line 6\u001b[0m\n\u001b[1;32m      4\u001b[0m \u001b[38;5;66;03m# x = jax.random.normal(key, (batch_size, seq_len, input_dim))\u001b[39;00m\n\u001b[1;32m      5\u001b[0m x \u001b[38;5;241m=\u001b[39m jax\u001b[38;5;241m.\u001b[39mrandom\u001b[38;5;241m.\u001b[39mnormal(key, (seq_len, input_dim))\n\u001b[0;32m----> 6\u001b[0m \u001b[43mmodel\u001b[49m\u001b[43m(\u001b[49m\u001b[43mx\u001b[49m\u001b[43m)\u001b[49m\n",
      "    \u001b[0;31m[... skipping hidden 3 frame]\u001b[0m\n",
      "Cell \u001b[0;32mIn[4], line 25\u001b[0m, in \u001b[0;36mRNN.__call__\u001b[0;34m(self, x)\u001b[0m\n\u001b[1;32m     22\u001b[0m \u001b[38;5;28;01mdef\u001b[39;00m \u001b[38;5;21m__call__\u001b[39m(\u001b[38;5;28mself\u001b[39m, x): \n\u001b[1;32m     23\u001b[0m     \u001b[38;5;66;03m# batch_size, seq_len, _ = x.shape\u001b[39;00m\n\u001b[1;32m     24\u001b[0m     \u001b[38;5;66;03m# batch_size, seq_len, _  = 1, x.shape\u001b[39;00m\n\u001b[0;32m---> 25\u001b[0m     seq_len, _ \u001b[38;5;241m=\u001b[39m x\u001b[38;5;241m.\u001b[39mshape\n\u001b[1;32m     27\u001b[0m     \u001b[38;5;66;03m# hidden = torch.nn.Parameter(torch.zeros(batch_size, self.hidden_dim))\u001b[39;00m\n\u001b[1;32m     28\u001b[0m     \u001b[38;5;66;03m# hidden = jnp.zeros((batch_size, self.hidden_dim))\u001b[39;00m\n\u001b[1;32m     29\u001b[0m     hidden \u001b[38;5;241m=\u001b[39m jnp\u001b[38;5;241m.\u001b[39mzeros((\u001b[38;5;28mself\u001b[39m\u001b[38;5;241m.\u001b[39mhidden_dim,))\n",
      "\u001b[0;31mValueError\u001b[0m: not enough values to unpack (expected 2, got 1)"
     ]
    }
   ],
   "source": [
    "batch_size = 128\n",
    "seq_len = 10\n",
    "input_dim = 2\n",
    "# x = jax.random.normal(key, (batch_size, seq_len, input_dim))\n",
    "x = jax.random.normal(key, (seq_len, input_dim))\n",
    "model(x)"
   ]
  },
  {
   "cell_type": "code",
   "execution_count": 4,
   "metadata": {},
   "outputs": [
    {
     "data": {
      "text/plain": [
       "type"
      ]
     },
     "execution_count": 4,
     "metadata": {},
     "output_type": "execute_result"
    }
   ],
   "source": [
    "type(type(128))"
   ]
  }
 ],
 "metadata": {
  "kernelspec": {
   "display_name": "pebble",
   "language": "python",
   "name": "python3"
  },
  "language_info": {
   "codemirror_mode": {
    "name": "ipython",
    "version": 3
   },
   "file_extension": ".py",
   "mimetype": "text/x-python",
   "name": "python",
   "nbconvert_exporter": "python",
   "pygments_lexer": "ipython3",
   "version": "3.10.13"
  }
 },
 "nbformat": 4,
 "nbformat_minor": 2
}
