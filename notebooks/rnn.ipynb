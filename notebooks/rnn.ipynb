{
 "cells": [
  {
   "cell_type": "code",
   "execution_count": 2,
   "metadata": {},
   "outputs": [
    {
     "name": "stdout",
     "output_type": "stream",
     "text": [
      "Intel MKL WARNING: Support of Intel(R) Streaming SIMD Extensions 4.2 (Intel(R) SSE4.2) enabled only processors has been deprecated. Intel oneAPI Math Kernel Library 2025.0 will require Intel(R) Advanced Vector Extensions (Intel(R) AVX) instructions.\n",
      "Intel MKL WARNING: Support of Intel(R) Streaming SIMD Extensions 4.2 (Intel(R) SSE4.2) enabled only processors has been deprecated. Intel oneAPI Math Kernel Library 2025.0 will require Intel(R) Advanced Vector Extensions (Intel(R) AVX) instructions.\n"
     ]
    }
   ],
   "source": [
    "import equinox as eqx\n",
    "import jax\n",
    "import jax.numpy as jnp\n",
    "from dataclasses import dataclass"
   ]
  },
  {
   "cell_type": "code",
   "execution_count": 3,
   "metadata": {},
   "outputs": [],
   "source": [
    "@dataclass \n",
    "class RNNConfig: \n",
    "  input_dim: int = 2\n",
    "  output_dim: int = 1\n",
    "  hidden_dim: int = 40 "
   ]
  },
  {
   "cell_type": "code",
   "execution_count": 25,
   "metadata": {},
   "outputs": [],
   "source": [
    "key = jax.random.PRNGKey(446)\n",
    "\n",
    "class RNN(eqx.Module): \n",
    "    config: RNNConfig\n",
    "    hidden_dim: int\n",
    "    Wh: eqx.nn.Linear\n",
    "    Wx: eqx.nn.Linear\n",
    "    Wy: eqx.nn.Linear\n",
    "    act: callable\n",
    "    device: str = 'cpu'\n",
    "    \n",
    "    # TODO: check bias \n",
    "    def __init__(self, config, device='cpu'):\n",
    "        self.config = config\n",
    "        self.hidden_dim = config.hidden_dim\n",
    "        self.Wh = eqx.nn.Linear(config.hidden_dim, config.hidden_dim, key=key)\n",
    "        self.Wx = eqx.nn.Linear(config.input_dim, config.hidden_dim, key=key)\n",
    "        self.Wy = eqx.nn.Linear(config.hidden_dim, config.output_dim, key=key)\n",
    "        self.act = jax.nn.sigmoid\n",
    "        self.device = device\n",
    "\n",
    "    def __call__(self, x): \n",
    "        # batch_size, seq_len, _ = x.shape\n",
    "        # batch_size, seq_len, _  = 1, x.shape\n",
    "        seq_len, _ = x.shape\n",
    "\n",
    "        # hidden = torch.nn.Parameter(torch.zeros(batch_size, self.hidden_dim))\n",
    "        # hidden = jnp.zeros((batch_size, self.hidden_dim))\n",
    "        hidden = jnp.zeros((self.hidden_dim,))\n",
    "        outs = []\n",
    "\n",
    "        for i in range(seq_len):\n",
    "            # print(self.Wh(hidden).shape)\n",
    "            # print(hidden.shape)\n",
    "            hidden = self.act(self.Wh(hidden) + self.Wx(x[i,:]))\n",
    "            out = self.Wy(hidden)\n",
    "            outs.append(out)\n",
    "        \n",
    "        # output shape = (batch_size, sequence length, output dimension)\n",
    "        # return torch.stack(outs).permute(1,0,2)\n",
    "        stacked = jnp.stack(outs, axis=1)\n",
    "        return jnp.transpose(stacked, (1,0,2))\n"
   ]
  },
  {
   "cell_type": "code",
   "execution_count": 26,
   "metadata": {},
   "outputs": [
    {
     "data": {
      "text/plain": [
       "RNN(\n",
       "  config=RNNConfig(input_dim=2, output_dim=1, hidden_dim=2),\n",
       "  hidden_dim=2,\n",
       "  Wh=Linear(\n",
       "    weight=f32[2,2],\n",
       "    bias=f32[2],\n",
       "    in_features=2,\n",
       "    out_features=2,\n",
       "    use_bias=True\n",
       "  ),\n",
       "  Wx=Linear(\n",
       "    weight=f32[2,2],\n",
       "    bias=f32[2],\n",
       "    in_features=2,\n",
       "    out_features=2,\n",
       "    use_bias=True\n",
       "  ),\n",
       "  Wy=Linear(\n",
       "    weight=f32[1,2],\n",
       "    bias=f32[1],\n",
       "    in_features=2,\n",
       "    out_features=1,\n",
       "    use_bias=True\n",
       "  ),\n",
       "  act=<wrapped function sigmoid>,\n",
       "  device='cpu'\n",
       ")"
      ]
     },
     "execution_count": 26,
     "metadata": {},
     "output_type": "execute_result"
    }
   ],
   "source": [
    "config = RNNConfig(input_dim=2, hidden_dim=2, output_dim=1)\n",
    "model = RNN(config)\n",
    "model"
   ]
  },
  {
   "cell_type": "code",
   "execution_count": 27,
   "metadata": {},
   "outputs": [
    {
     "ename": "IndexError",
     "evalue": "Too many indices for array: array has ndim of 2, but was indexed with 3 non-None/Ellipsis indices.",
     "output_type": "error",
     "traceback": [
      "\u001b[0;31m---------------------------------------------------------------------------\u001b[0m",
      "\u001b[0;31mIndexError\u001b[0m                                Traceback (most recent call last)",
      "Cell \u001b[0;32mIn[27], line 6\u001b[0m\n\u001b[1;32m      4\u001b[0m \u001b[38;5;66;03m# x = jax.random.normal(key, (batch_size, seq_len, input_dim))\u001b[39;00m\n\u001b[1;32m      5\u001b[0m x \u001b[38;5;241m=\u001b[39m jax\u001b[38;5;241m.\u001b[39mrandom\u001b[38;5;241m.\u001b[39mnormal(key, (seq_len, input_dim))\n\u001b[0;32m----> 6\u001b[0m \u001b[43mmodel\u001b[49m\u001b[43m(\u001b[49m\u001b[43mx\u001b[49m\u001b[43m)\u001b[49m\n",
      "Cell \u001b[0;32mIn[25], line 35\u001b[0m, in \u001b[0;36mRNN.__call__\u001b[0;34m(self, x)\u001b[0m\n\u001b[1;32m     30\u001b[0m outs \u001b[38;5;241m=\u001b[39m []\n\u001b[1;32m     32\u001b[0m \u001b[38;5;28;01mfor\u001b[39;00m i \u001b[38;5;129;01min\u001b[39;00m \u001b[38;5;28mrange\u001b[39m(seq_len):\n\u001b[1;32m     33\u001b[0m     \u001b[38;5;66;03m# print(self.Wh(hidden).shape)\u001b[39;00m\n\u001b[1;32m     34\u001b[0m     \u001b[38;5;66;03m# print(hidden.shape)\u001b[39;00m\n\u001b[0;32m---> 35\u001b[0m     hidden \u001b[38;5;241m=\u001b[39m \u001b[38;5;28mself\u001b[39m\u001b[38;5;241m.\u001b[39mact(\u001b[38;5;28mself\u001b[39m\u001b[38;5;241m.\u001b[39mWh(hidden) \u001b[38;5;241m+\u001b[39m \u001b[38;5;28mself\u001b[39m\u001b[38;5;241m.\u001b[39mWx(\u001b[43mx\u001b[49m\u001b[43m[\u001b[49m\u001b[43m:\u001b[49m\u001b[43m,\u001b[49m\u001b[43mi\u001b[49m\u001b[43m,\u001b[49m\u001b[43m:\u001b[49m\u001b[43m]\u001b[49m))\n\u001b[1;32m     36\u001b[0m     out \u001b[38;5;241m=\u001b[39m \u001b[38;5;28mself\u001b[39m\u001b[38;5;241m.\u001b[39mWy(hidden)\n\u001b[1;32m     37\u001b[0m     outs\u001b[38;5;241m.\u001b[39mappend(out)\n",
      "File \u001b[0;32m~/opt/anaconda3/envs/pebble/lib/python3.11/site-packages/jax/_src/array.py:314\u001b[0m, in \u001b[0;36mArrayImpl.__getitem__\u001b[0;34m(self, idx)\u001b[0m\n\u001b[1;32m    312\u001b[0m   num_idx \u001b[38;5;241m=\u001b[39m \u001b[38;5;28msum\u001b[39m(e \u001b[38;5;129;01mis\u001b[39;00m \u001b[38;5;129;01mnot\u001b[39;00m \u001b[38;5;28;01mNone\u001b[39;00m \u001b[38;5;129;01mand\u001b[39;00m e \u001b[38;5;129;01mis\u001b[39;00m \u001b[38;5;129;01mnot\u001b[39;00m \u001b[38;5;28mEllipsis\u001b[39m \u001b[38;5;28;01mfor\u001b[39;00m e \u001b[38;5;129;01min\u001b[39;00m idx)\n\u001b[1;32m    313\u001b[0m   \u001b[38;5;28;01mif\u001b[39;00m num_idx \u001b[38;5;241m>\u001b[39m \u001b[38;5;28mself\u001b[39m\u001b[38;5;241m.\u001b[39mndim:\n\u001b[0;32m--> 314\u001b[0m     \u001b[38;5;28;01mraise\u001b[39;00m \u001b[38;5;167;01mIndexError\u001b[39;00m(\n\u001b[1;32m    315\u001b[0m         \u001b[38;5;124mf\u001b[39m\u001b[38;5;124m\"\u001b[39m\u001b[38;5;124mToo many indices for array: array has ndim of \u001b[39m\u001b[38;5;132;01m{\u001b[39;00m\u001b[38;5;28mself\u001b[39m\u001b[38;5;241m.\u001b[39mndim\u001b[38;5;132;01m}\u001b[39;00m\u001b[38;5;124m, but \u001b[39m\u001b[38;5;124m\"\u001b[39m\n\u001b[1;32m    316\u001b[0m         \u001b[38;5;124mf\u001b[39m\u001b[38;5;124m\"\u001b[39m\u001b[38;5;124mwas indexed with \u001b[39m\u001b[38;5;132;01m{\u001b[39;00mnum_idx\u001b[38;5;132;01m}\u001b[39;00m\u001b[38;5;124m non-None/Ellipsis indices.\u001b[39m\u001b[38;5;124m\"\u001b[39m)\n\u001b[1;32m    318\u001b[0m \u001b[38;5;28;01mif\u001b[39;00m \u001b[38;5;28misinstance\u001b[39m(\u001b[38;5;28mself\u001b[39m\u001b[38;5;241m.\u001b[39msharding, PmapSharding):\n\u001b[1;32m    319\u001b[0m   \u001b[38;5;28;01mif\u001b[39;00m \u001b[38;5;129;01mnot\u001b[39;00m \u001b[38;5;28misinstance\u001b[39m(idx, \u001b[38;5;28mtuple\u001b[39m):\n",
      "\u001b[0;31mIndexError\u001b[0m: Too many indices for array: array has ndim of 2, but was indexed with 3 non-None/Ellipsis indices."
     ]
    }
   ],
   "source": [
    "batch_size = 128\n",
    "seq_len = 10\n",
    "input_dim = 2\n",
    "# x = jax.random.normal(key, (batch_size, seq_len, input_dim))\n",
    "x = jax.random.normal(key, (seq_len, input_dim))\n",
    "model(x)"
   ]
  }
 ],
 "metadata": {
  "kernelspec": {
   "display_name": "pebble",
   "language": "python",
   "name": "python3"
  },
  "language_info": {
   "codemirror_mode": {
    "name": "ipython",
    "version": 3
   },
   "file_extension": ".py",
   "mimetype": "text/x-python",
   "name": "python",
   "nbconvert_exporter": "python",
   "pygments_lexer": "ipython3",
   "version": "3.11.9"
  }
 },
 "nbformat": 4,
 "nbformat_minor": 2
}
