{
 "cells": [
  {
   "cell_type": "code",
   "execution_count": 2,
   "metadata": {},
   "outputs": [
    {
     "name": "stdout",
     "output_type": "stream",
     "text": [
      "Intel MKL WARNING: Support of Intel(R) Streaming SIMD Extensions 4.2 (Intel(R) SSE4.2) enabled only processors has been deprecated. Intel oneAPI Math Kernel Library 2025.0 will require Intel(R) Advanced Vector Extensions (Intel(R) AVX) instructions.\n",
      "Intel MKL WARNING: Support of Intel(R) Streaming SIMD Extensions 4.2 (Intel(R) SSE4.2) enabled only processors has been deprecated. Intel oneAPI Math Kernel Library 2025.0 will require Intel(R) Advanced Vector Extensions (Intel(R) AVX) instructions.\n"
     ]
    }
   ],
   "source": [
    "import equinox as eqx\n",
    "import jax\n",
    "import jax.numpy as jnp\n",
    "from dataclasses import dataclass"
   ]
  },
  {
   "cell_type": "code",
   "execution_count": 3,
   "metadata": {},
   "outputs": [],
   "source": [
    "@dataclass \n",
    "class RNNConfig: \n",
    "  input_dim: int = 2\n",
    "  output_dim: int = 1\n",
    "  hidden_dim: int = 40 "
   ]
  },
  {
   "cell_type": "code",
   "execution_count": 4,
   "metadata": {},
   "outputs": [],
   "source": [
    "key = jax.random.PRNGKey(446)\n",
    "\n",
    "class RNN(eqx.Module):\n",
    "    config: RNNConfig\n",
    "    hidden_dim: int\n",
    "    Wh: eqx.nn.Linear\n",
    "    Wx: eqx.nn.Linear\n",
    "    Wy: eqx.nn.Linear\n",
    "    act: callable\n",
    "    device: str = 'cpu'\n",
    "    \n",
    "    # TODO: check bias \n",
    "    def __init__(self, config, device='cpu'):\n",
    "        self.config = config\n",
    "        self.hidden_dim = config.hidden_dim\n",
    "        self.Wh = eqx.nn.Linear(config.hidden_dim, config.hidden_dim, key=key)\n",
    "        self.Wx = eqx.nn.Linear(config.input_dim, config.hidden_dim, key=key)\n",
    "        self.Wy = eqx.nn.Linear(config.hidden_dim, config.output_dim, key=key)\n",
    "        self.act = jax.nn.sigmoid\n",
    "        self.device = device\n",
    "\n",
    "    def __call__(self, x): \n",
    "        # batch_size, seq_len, _ = x.shape\n",
    "        # batch_size, seq_len, _  = 1, x.shape\n",
    "        seq_len, _ = x.shape\n",
    "\n",
    "        # hidden = torch.nn.Parameter(torch.zeros(batch_size, self.hidden_dim))\n",
    "        # hidden = jnp.zeros((batch_size, self.hidden_dim))\n",
    "        hidden = jnp.zeros((self.hidden_dim,))\n",
    "        outs = []\n",
    "\n",
    "        for i in range(seq_len):\n",
    "            # print(self.Wh(hidden).shape)\n",
    "            # print(hidden.shape)\n",
    "            hidden = self.act(self.Wh(hidden) + self.Wx(x[i,:]))\n",
    "            out = self.Wy(hidden)\n",
    "            outs.append(out)\n",
    "        \n",
    "        # output shape = (batch_size, sequence length, output dimension)\n",
    "        # return torch.stack(outs).permute(1,0,2)\n",
    "        stacked = jnp.stack(outs, axis=1)\n",
    "        return stacked\n",
    "        # return jnp.transpose(stacked, (1,0,2))\n"
   ]
  },
  {
   "cell_type": "code",
   "execution_count": 5,
   "metadata": {},
   "outputs": [],
   "source": [
    "config = RNNConfig(input_dim=2, hidden_dim=2, output_dim=1)\n",
    "model = RNN(config)\n",
    "model = jax.vmap(model)"
   ]
  },
  {
   "cell_type": "code",
   "execution_count": 8,
   "metadata": {},
   "outputs": [
    {
     "ename": "ValueError",
     "evalue": "not enough values to unpack (expected 2, got 1)",
     "output_type": "error",
     "traceback": [
      "\u001b[0;31m---------------------------------------------------------------------------\u001b[0m",
      "\u001b[0;31mValueError\u001b[0m                                Traceback (most recent call last)",
      "Cell \u001b[0;32mIn[8], line 6\u001b[0m\n\u001b[1;32m      4\u001b[0m \u001b[38;5;66;03m# x = jax.random.normal(key, (batch_size, seq_len, input_dim))\u001b[39;00m\n\u001b[1;32m      5\u001b[0m x \u001b[38;5;241m=\u001b[39m jax\u001b[38;5;241m.\u001b[39mrandom\u001b[38;5;241m.\u001b[39mnormal(key, (seq_len, input_dim))\n\u001b[0;32m----> 6\u001b[0m \u001b[43mmodel\u001b[49m\u001b[43m(\u001b[49m\u001b[43mx\u001b[49m\u001b[43m)\u001b[49m\n",
      "    \u001b[0;31m[... skipping hidden 3 frame]\u001b[0m\n",
      "Cell \u001b[0;32mIn[4], line 25\u001b[0m, in \u001b[0;36mRNN.__call__\u001b[0;34m(self, x)\u001b[0m\n\u001b[1;32m     22\u001b[0m \u001b[38;5;28;01mdef\u001b[39;00m \u001b[38;5;21m__call__\u001b[39m(\u001b[38;5;28mself\u001b[39m, x): \n\u001b[1;32m     23\u001b[0m     \u001b[38;5;66;03m# batch_size, seq_len, _ = x.shape\u001b[39;00m\n\u001b[1;32m     24\u001b[0m     \u001b[38;5;66;03m# batch_size, seq_len, _  = 1, x.shape\u001b[39;00m\n\u001b[0;32m---> 25\u001b[0m     seq_len, _ \u001b[38;5;241m=\u001b[39m x\u001b[38;5;241m.\u001b[39mshape\n\u001b[1;32m     27\u001b[0m     \u001b[38;5;66;03m# hidden = torch.nn.Parameter(torch.zeros(batch_size, self.hidden_dim))\u001b[39;00m\n\u001b[1;32m     28\u001b[0m     \u001b[38;5;66;03m# hidden = jnp.zeros((batch_size, self.hidden_dim))\u001b[39;00m\n\u001b[1;32m     29\u001b[0m     hidden \u001b[38;5;241m=\u001b[39m jnp\u001b[38;5;241m.\u001b[39mzeros((\u001b[38;5;28mself\u001b[39m\u001b[38;5;241m.\u001b[39mhidden_dim,))\n",
      "\u001b[0;31mValueError\u001b[0m: not enough values to unpack (expected 2, got 1)"
     ]
    }
   ],
   "source": [
    "batch_size = 128\n",
    "seq_len = 10\n",
    "input_dim = 2\n",
    "# x = jax.random.normal(key, (batch_size, seq_len, input_dim))\n",
    "x = jax.random.normal(key, (seq_len, input_dim))\n",
    "model(x)"
   ]
  },
  {
   "cell_type": "code",
   "execution_count": 4,
   "metadata": {},
   "outputs": [
    {
     "data": {
      "text/plain": [
       "type"
      ]
     },
     "execution_count": 4,
     "metadata": {},
     "output_type": "execute_result"
    }
   ],
   "source": [
    "type(type(128))"
   ]
  }
 ],
 "metadata": {
  "kernelspec": {
   "display_name": "pebble",
   "language": "python",
   "name": "python3"
  },
  "language_info": {
   "codemirror_mode": {
    "name": "ipython",
    "version": 3
   },
   "file_extension": ".py",
   "mimetype": "text/x-python",
   "name": "python",
   "nbconvert_exporter": "python",
   "pygments_lexer": "ipython3",
   "version": "3.11.9"
  }
 },
 "nbformat": 4,
 "nbformat_minor": 2
}
